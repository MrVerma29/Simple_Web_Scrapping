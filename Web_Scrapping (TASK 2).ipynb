{
 "cells": [
  {
   "cell_type": "markdown",
   "id": "b160a40b-77d5-479e-b6eb-d6399e8bb5f9",
   "metadata": {},
   "source": [
    "# Task 2 Summary\n",
    "\n",
    "In **Task 2**, we developed a Python script to extract specific information from company websites (Nestlé, Pfizer, and Coca-Cola) to evaluate their alignment with various health-related categories. The output was structured into a DataFrame with columns representing different operational and health aspects of each company, facilitating a clear comparative analysis.\n",
    "\n",
    "---\n",
    "\n",
    "## Libraries Used\n",
    "\n",
    "1. **requests**: Sends HTTP requests to fetch website content.\n",
    "2. **BeautifulSoup**: Parses and navigates through the HTML content.\n",
    "3. **pandas**: Organizes extracted data into a structured DataFrame and exports it to an Excel file.\n",
    "4. **openpyxl**: Saves the DataFrame as an Excel file, ensuring compatibility with `.xlsx` format.\n",
    "\n",
    "---\n",
    "\n",
    "## Columns with Objectives\n",
    "\n",
    "- **Products Offered**: Identifies if the company provides health-related products like supplements, vitamins, or nutrition products.\n",
    "- **Company Description**: Captures a brief overview of the company’s history, mission, and values.\n",
    "- **Category**: Classifies the company as a manufacturer, distributor, or brand.\n",
    "- **Health Relevance**: Assesses if health or wellness is a core focus for the company.\n",
    "- **Manufacturer**: Checks if the company manufactures its own products.\n",
    "- **Brand Presence**: Evaluates the visibility and presence of the company’s brand lineup.\n",
    "- **Distribution Role**: Determines if the company actively manages its distribution or supply chain.\n",
    "\n",
    "This column-based approach provides a consistent structure to analyze each company’s alignment within the health sector and specific operational roles.\n",
    "\n",
    "---\n",
    "\n",
    "## Process Summary\n",
    "\n",
    "We created a Python script to analyze the health relevance of three companies—**Nestlé, Pfizer, and Coca-Cola**—based on defined health-related criteria. Below is an overview of the process:\n",
    "\n",
    "1. **Objective Definition**:\n",
    "   - Defined specific objectives for each DataFrame column, such as *Products Offered* and *Company Description*.\n",
    "\n",
    "2. **Data Extraction Using Python Libraries**:\n",
    "   - Leveraged libraries:\n",
    "     - `requests` and `BeautifulSoup` for web scraping,\n",
    "     - `pandas` to structure and analyze the data,\n",
    "     - `openpyxl` to export the results into an Excel file.\n",
    "   \n",
    "3. **Keyword and Selector Setup**:\n",
    "   - Defined keywords and CSS selectors to identify and extract relevant content per company, ensuring alignment with health-related criteria like health product offerings, brand visibility, and manufacturing involvement.\n",
    "\n",
    "4. **DataFrame Population and Export**:\n",
    "   - Populated the DataFrame with the extracted data, enabling easy comparison.\n",
    "   - Exported the structured data to an Excel file for further review.\n",
    "\n",
    "---"
   ]
  },
  {
   "cell_type": "code",
   "execution_count": 284,
   "id": "8851985f-f3c2-4002-b0ff-22dc19ea2014",
   "metadata": {},
   "outputs": [
    {
     "name": "stdout",
     "output_type": "stream",
     "text": [
      "Requirement already satisfied: requests in c:\\users\\verma\\anaconda3\\lib\\site-packages (2.31.0)\n",
      "Requirement already satisfied: beautifulsoup4 in c:\\users\\verma\\anaconda3\\lib\\site-packages (4.12.2)\n",
      "Requirement already satisfied: pandas in c:\\users\\verma\\anaconda3\\lib\\site-packages (2.1.4)\n",
      "Requirement already satisfied: charset-normalizer<4,>=2 in c:\\users\\verma\\anaconda3\\lib\\site-packages (from requests) (2.0.4)\n",
      "Requirement already satisfied: idna<4,>=2.5 in c:\\users\\verma\\anaconda3\\lib\\site-packages (from requests) (3.4)\n",
      "Requirement already satisfied: urllib3<3,>=1.21.1 in c:\\users\\verma\\anaconda3\\lib\\site-packages (from requests) (2.0.7)\n",
      "Requirement already satisfied: certifi>=2017.4.17 in c:\\users\\verma\\anaconda3\\lib\\site-packages (from requests) (2024.7.4)\n",
      "Requirement already satisfied: soupsieve>1.2 in c:\\users\\verma\\anaconda3\\lib\\site-packages (from beautifulsoup4) (2.5)\n",
      "Requirement already satisfied: numpy<2,>=1.23.2 in c:\\users\\verma\\anaconda3\\lib\\site-packages (from pandas) (1.26.4)\n",
      "Requirement already satisfied: python-dateutil>=2.8.2 in c:\\users\\verma\\anaconda3\\lib\\site-packages (from pandas) (2.8.2)\n",
      "Requirement already satisfied: pytz>=2020.1 in c:\\users\\verma\\anaconda3\\lib\\site-packages (from pandas) (2023.3.post1)\n",
      "Requirement already satisfied: tzdata>=2022.1 in c:\\users\\verma\\anaconda3\\lib\\site-packages (from pandas) (2023.3)\n",
      "Requirement already satisfied: six>=1.5 in c:\\users\\verma\\anaconda3\\lib\\site-packages (from python-dateutil>=2.8.2->pandas) (1.16.0)\n",
      "Note: you may need to restart the kernel to use updated packages.\n"
     ]
    }
   ],
   "source": [
    "pip install requests beautifulsoup4 pandas"
   ]
  },
  {
   "cell_type": "code",
   "execution_count": 285,
   "id": "5da07ff3-a093-4974-8baa-9939a9be5df0",
   "metadata": {},
   "outputs": [
    {
     "name": "stdout",
     "output_type": "stream",
     "text": [
      "Requirement already satisfied: openpyxl in c:\\users\\verma\\anaconda3\\lib\\site-packages (3.0.10)\n",
      "Requirement already satisfied: et_xmlfile in c:\\users\\verma\\anaconda3\\lib\\site-packages (from openpyxl) (1.1.0)\n",
      "Note: you may need to restart the kernel to use updated packages.\n"
     ]
    }
   ],
   "source": [
    "pip install openpyxl"
   ]
  },
  {
   "cell_type": "code",
   "execution_count": 286,
   "id": "d4812836-5ea6-430f-b872-a5cac0397005",
   "metadata": {},
   "outputs": [],
   "source": [
    "import requests\n",
    "from bs4 import BeautifulSoup\n",
    "import pandas as pd"
   ]
  },
  {
   "cell_type": "markdown",
   "id": "f4eaa4ee-a866-4857-bd0b-8a695b11ba35",
   "metadata": {},
   "source": [
    "## List of companies and their websites"
   ]
  },
  {
   "cell_type": "code",
   "execution_count": 288,
   "id": "c967a064-a06b-4a34-9571-d7b7a6e81380",
   "metadata": {},
   "outputs": [],
   "source": [
    "companies = {\n",
    "    \"Nestle\": \"https://www.nestle.com\",\n",
    "    \"Pfizer\": \"https://www.pfizer.com\",\n",
    "    \"Coca-Cola\": \"https://www.coca-cola.com\"}"
   ]
  },
  {
   "cell_type": "markdown",
   "id": "12e3e2e2-d404-4c8d-8112-7b52687f7c29",
   "metadata": {},
   "source": [
    "## Creating an empty list to store results"
   ]
  },
  {
   "cell_type": "code",
   "execution_count": 290,
   "id": "95d316b8-58b8-4b4f-b6d9-6812b3b6e9c6",
   "metadata": {},
   "outputs": [],
   "source": [
    "results = []"
   ]
  },
  {
   "cell_type": "markdown",
   "id": "2439a5ba-c61e-413d-b720-00d6f4c1b02a",
   "metadata": {},
   "source": [
    "## Defining function to check the keywords present or not"
   ]
  },
  {
   "cell_type": "code",
   "execution_count": 292,
   "id": "767b1fba-4dbf-4485-943b-12b2fe5af9b1",
   "metadata": {},
   "outputs": [],
   "source": [
    "def check_keywords(content, keywords):\n",
    "    return any(keyword.lower() in content.lower() for keyword in keywords)"
   ]
  },
  {
   "cell_type": "markdown",
   "id": "cc14fdbb-89f4-45e4-aa21-269088aa2e11",
   "metadata": {},
   "source": [
    "## Imputing the scrapped data for each of the companies"
   ]
  },
  {
   "cell_type": "code",
   "execution_count": 294,
   "id": "efbd2457-628c-4474-85b8-a101937ae6ac",
   "metadata": {},
   "outputs": [],
   "source": [
    "selectors = {\n",
    "    \"Nestle\": {\n",
    "        \"products_offered\": \".description, .title-product, .page-header__title\",\n",
    "        \"company_description\": \".card-item__body p, .card-item__title h2, b\",\n",
    "        \"category\": \".news, .page-header__body\",\n",
    "        \"health_relevance\": \"li, .ct-footer h2, p, .page-header__title\",\n",
    "        \"manufacturer\": \"h3, p, h2, .page-header__title\",\n",
    "        \"brand_presence\": \".description, .title-product, .page-header__title\",\n",
    "        \"distribution_role\": \".text p, h2, .page-header__title\"\n",
    "    },\n",
    "    \"Pfizer\": {\n",
    "        \"products_offered\": \"h4, .bw-pull-quote, p, .h3-styling-press-release\",\n",
    "        \"company_description\": \".link-text a, .link-l, .first-sub\",\n",
    "        \"category\": \"h4, .banner-tile__headline-small, p\",\n",
    "        \"health_relevance\": \".dark-text, p, .main-menu__overlay, .landing-page-title\",\n",
    "        \"manufacturer\": \"h4, p, .banner-tile__headline-small\",\n",
    "        \"brand_presence\": \".main :nth-child(1)\",\n",
    "        \"distribution_role\": \"h4, .breadcrumbs, p, .banner-tile__headline-small\"\n",
    "    },\n",
    "    \"Coca-Cola\": {\n",
    "        \"products_offered\": \".cmp-container :nth-child(1)\",\n",
    "        \"company_description\": \".cmp-teaser__content :nth-child(1)\",\n",
    "        \"category\": \"#container-7ee9da1a92 :nth-child(1)\",\n",
    "        \"health_relevance\": \"#container-f3ebc6e3ad :nth-child(1)\",\n",
    "        \"manufacturer\": \".cmp-teaser__title, p, .cmp-title__text, .cmp-tabs__tablist\",\n",
    "        \"brand_presence\": \".cmp-tabs, .sub-nav-brands, p, .cmp-title__text\",\n",
    "        \"distribution_role\": \".cmp-container :nth-child(1)\"\n",
    "    }\n",
    "}"
   ]
  },
  {
   "cell_type": "markdown",
   "id": "7ba45a4d-d6c5-4eba-a2c4-1fa67c2157d8",
   "metadata": {},
   "source": [
    "## Adding keywords "
   ]
  },
  {
   "cell_type": "code",
   "execution_count": 296,
   "id": "82952fa4-0464-4925-ba76-c969d5fd58bc",
   "metadata": {},
   "outputs": [],
   "source": [
    "keywords_dict = {\n",
    "    \"products_offered\": ['health', 'nutrition', 'probiotics', 'vitamins', 'supplements', 'health drinks', 'snacks'],\n",
    "    \"company_description\": ['about us', 'company overview', 'mission', 'history', 'vision', 'values'],\n",
    "    \"category\": ['manufacturer', 'distributor', 'brand', 'consumer goods', 'healthcare'],\n",
    "    \"health_relevance\": ['health', 'wellness', 'nutrition', 'lifestyle', 'care', 'sustainability', 'research'],\n",
    "    \"manufacturer\": ['manufacturing', 'production', 'factory', 'quality assurance', 'processes'],\n",
    "    \"brand_presence\": ['brands', 'brand portfolio', 'our brands', 'product lines'],\n",
    "    \"distribution_role\": ['distribution', 'supply chain', 'logistics', 'partners', 'distribution network']\n",
    "}"
   ]
  },
  {
   "cell_type": "markdown",
   "id": "586d53a2-ab30-4b5d-92df-18390d1d72f9",
   "metadata": {},
   "source": [
    "## Going through each company to scrape data"
   ]
  },
  {
   "cell_type": "markdown",
   "id": "02d67802-3e3a-4bca-ae7e-eaced4febdc5",
   "metadata": {},
   "source": [
    "### Making a request to the website"
   ]
  },
  {
   "cell_type": "code",
   "execution_count": 300,
   "id": "212c57b0-548e-4563-82dc-b11dafa260b9",
   "metadata": {},
   "outputs": [],
   "source": [
    "# Iterate through each company to scrape data\n",
    "for company, url in companies.items():\n",
    "    # Make a request to the website\n",
    "    response = requests.get(url)\n",
    "    \n",
    "    # If the request was successfu this code will runl\n",
    "    if response.status_code == 200:\n",
    "        soup = BeautifulSoup(response.content, 'html.parser')\n",
    "        \n",
    "        # Creating data dictionary for each company\n",
    "        company_data = {\"Company\": company, \"Website\": url}\n",
    "\n",
    "        # Scraping each field based on selectors and keywords\n",
    "        for field, css_selector in selectors[company].items():\n",
    "            # Selecting the element and check for keywords\n",
    "            element = soup.select_one(css_selector)\n",
    "            field_value = 'Yes' if element and check_keywords(element.get_text(), keywords_dict[field]) else 'No'\n",
    "            company_data[field.replace(\"_\", \" \").title()] = field_value  # Replace underscores with spaces for readability\n",
    "        \n",
    "        # Appending the results to the list\n",
    "        results.append(company_data)"
   ]
  },
  {
   "cell_type": "markdown",
   "id": "b4f819a5-cdb1-44af-b542-72adb3ba4437",
   "metadata": {},
   "source": [
    "### Creating a DataFrame from the results"
   ]
  },
  {
   "cell_type": "code",
   "execution_count": 310,
   "id": "2985f83f-cfd3-4fc4-99f7-58999f8964a7",
   "metadata": {},
   "outputs": [],
   "source": [
    "data = pd.DataFrame(results)"
   ]
  },
  {
   "cell_type": "markdown",
   "id": "6de6627a-e167-4033-b828-7c77bd4caf1f",
   "metadata": {},
   "source": [
    "### Printing the dataframe"
   ]
  },
  {
   "cell_type": "code",
   "execution_count": 313,
   "id": "7142bffe-3bd3-4d87-8bcb-1f5961ea56fa",
   "metadata": {},
   "outputs": [
    {
     "data": {
      "text/html": [
       "<div>\n",
       "<style scoped>\n",
       "    .dataframe tbody tr th:only-of-type {\n",
       "        vertical-align: middle;\n",
       "    }\n",
       "\n",
       "    .dataframe tbody tr th {\n",
       "        vertical-align: top;\n",
       "    }\n",
       "\n",
       "    .dataframe thead th {\n",
       "        text-align: right;\n",
       "    }\n",
       "</style>\n",
       "<table border=\"1\" class=\"dataframe\">\n",
       "  <thead>\n",
       "    <tr style=\"text-align: right;\">\n",
       "      <th></th>\n",
       "      <th>Company</th>\n",
       "      <th>Website</th>\n",
       "      <th>Products Offered</th>\n",
       "      <th>Company Description</th>\n",
       "      <th>Category</th>\n",
       "      <th>Health Relevance</th>\n",
       "      <th>Manufacturer</th>\n",
       "      <th>Brand Presence</th>\n",
       "      <th>Distribution Role</th>\n",
       "    </tr>\n",
       "  </thead>\n",
       "  <tbody>\n",
       "    <tr>\n",
       "      <th>0</th>\n",
       "      <td>Nestle</td>\n",
       "      <td>https://www.nestle.com</td>\n",
       "      <td>No</td>\n",
       "      <td>No</td>\n",
       "      <td>No</td>\n",
       "      <td>No</td>\n",
       "      <td>No</td>\n",
       "      <td>No</td>\n",
       "      <td>No</td>\n",
       "    </tr>\n",
       "    <tr>\n",
       "      <th>1</th>\n",
       "      <td>Pfizer</td>\n",
       "      <td>https://www.pfizer.com</td>\n",
       "      <td>Yes</td>\n",
       "      <td>No</td>\n",
       "      <td>No</td>\n",
       "      <td>No</td>\n",
       "      <td>No</td>\n",
       "      <td>No</td>\n",
       "      <td>No</td>\n",
       "    </tr>\n",
       "    <tr>\n",
       "      <th>2</th>\n",
       "      <td>Coca-Cola</td>\n",
       "      <td>https://www.coca-cola.com</td>\n",
       "      <td>No</td>\n",
       "      <td>No</td>\n",
       "      <td>No</td>\n",
       "      <td>No</td>\n",
       "      <td>No</td>\n",
       "      <td>No</td>\n",
       "      <td>No</td>\n",
       "    </tr>\n",
       "  </tbody>\n",
       "</table>\n",
       "</div>"
      ],
      "text/plain": [
       "     Company                    Website Products Offered Company Description  \\\n",
       "0     Nestle     https://www.nestle.com               No                  No   \n",
       "1     Pfizer     https://www.pfizer.com              Yes                  No   \n",
       "2  Coca-Cola  https://www.coca-cola.com               No                  No   \n",
       "\n",
       "  Category Health Relevance Manufacturer Brand Presence Distribution Role  \n",
       "0       No               No           No             No                No  \n",
       "1       No               No           No             No                No  \n",
       "2       No               No           No             No                No  "
      ]
     },
     "execution_count": 313,
     "metadata": {},
     "output_type": "execute_result"
    }
   ],
   "source": [
    "data"
   ]
  },
  {
   "cell_type": "markdown",
   "id": "9c2e1f5e-65c7-4a37-9882-6736fc2d0687",
   "metadata": {},
   "source": [
    "### Saving an Excel file at the specified path"
   ]
  },
  {
   "cell_type": "code",
   "execution_count": 316,
   "id": "1284f428-20a7-4e9c-aa38-388fd7fad9fe",
   "metadata": {},
   "outputs": [],
   "source": [
    "data.to_excel(r\"C:\\Users\\verma\\Downloads\\company_health_relevance.xlsx\", index=False)"
   ]
  },
  {
   "cell_type": "markdown",
   "id": "d04fd9c2-6a1f-43eb-997f-c68e32b04ef7",
   "metadata": {},
   "source": [
    "## Conclusion\n",
    "\n",
    "This systematic process provides a comprehensive way to evaluate each company's role in health and wellness, alongside its operational focus areas. The final structured DataFrame offers an effective comparison of these companies within the health sector.\n",
    "\n",
    "---"
   ]
  }
 ],
 "metadata": {
  "kernelspec": {
   "display_name": "Python 3 (ipykernel)",
   "language": "python",
   "name": "python3"
  },
  "language_info": {
   "codemirror_mode": {
    "name": "ipython",
    "version": 3
   },
   "file_extension": ".py",
   "mimetype": "text/x-python",
   "name": "python",
   "nbconvert_exporter": "python",
   "pygments_lexer": "ipython3",
   "version": "3.11.7"
  }
 },
 "nbformat": 4,
 "nbformat_minor": 5
}
